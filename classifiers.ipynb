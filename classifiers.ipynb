{
 "cells": [
  {
   "cell_type": "code",
   "execution_count": null,
   "metadata": {},
   "outputs": [],
   "source": []
  },
  {
   "cell_type": "code",
   "execution_count": 6,
   "metadata": {},
   "outputs": [],
   "source": [
    "import numpy as np\n",
    "import pandas as pd\n",
    "import random\n",
    "import math\n",
    "import matplotlib.pyplot as plt\n",
    "import statistics\n",
    "import csv\n",
    "from numpy.linalg import inv\n",
    "\n",
    "from sklearn.metrics.pairwise import euclidean_distances\n",
    "from sklearn.model_selection import train_test_split\n",
    "from scipy.spatial import distance\n",
    "from sklearn.metrics import confusion_matrix\n",
    "from collections import Counter\n",
    "from sklearn.utils import shuffle\n",
    "from sklearn.metrics import  f1_score as f1, precision_score,recall_score\n",
    "from collections import defaultdict\n",
    "from matplotlib import style\n",
    "\n",
    "\n",
    "\n",
    "# X_train, X_test, Y_train, Y_test = train_test_split(  X, Y, test_size = 0.25,shuffle=True)\n",
    "\n"
   ]
  },
  {
   "cell_type": "code",
   "execution_count": 7,
   "metadata": {},
   "outputs": [],
   "source": [
    "## ACCURACY\n",
    "\n",
    "def accuracy(predicted_output,actual_output):\n",
    "    l = len(predicted_output)\n",
    "    out=0\n",
    "    for i in range(l):\n",
    "        if(predicted_output[i]==actual_output[i]):\n",
    "            out=out+1\n",
    "    return out/l\n",
    "\n",
    "## PRECISION\n",
    "\n",
    "def precision(predicted_output,actual_output):\n",
    "    tp=sum(actual_output)\n",
    "    fp=0.0\n",
    "    l = len(predicted_output)\n",
    "    for i in range(l):\n",
    "        if(actual_output[i]==0 and predicted_output[i]==1):\n",
    "            fp=fp+1\n",
    "    return tp/(tp+fp)\n",
    "    \n",
    "    \n",
    "##RECALL\n",
    "\n",
    "def recall(predicted_output,actual_output):\n",
    "    tp=sum(actual_output)\n",
    "    fn=0.0\n",
    "    l = len(predicted_output)\n",
    "    for i in range(l):\n",
    "        if(actual_output[i]==1 and predicted_output[i]==0):\n",
    "            fn=fn+1\n",
    "    return tp/(tp+fn)\n",
    "\n",
    "\n",
    "\n",
    "##F1 SCORE\n",
    "\n",
    "def f1_score(predicted_output,actual_output):\n",
    "    tp=sum(actual_output)\n",
    "    l = len(predicted_output)\n",
    "    fp=0.0\n",
    "    fn=0.0\n",
    "    for i in range(l):\n",
    "        if(actual_output[i]==1 and predicted_output[i]==0):\n",
    "            fn=fn+1\n",
    "    \n",
    "    for i in range(l):\n",
    "        if(actual_output[i]==0 and predicted_output[i]==1):\n",
    "            fp=fp+1\n",
    "    return 2*tp/(2*tp+fp+fn)"
   ]
  },
  {
   "cell_type": "markdown",
   "metadata": {},
   "source": [
    "# PART 1"
   ]
  },
  {
   "cell_type": "code",
   "execution_count": 8,
   "metadata": {},
   "outputs": [],
   "source": [
    "##ROBOT1\n",
    "data1 = pd.read_csv(\"RobotDataset/Robot1\",sep= ' ', header = None )\n",
    "\n",
    "data1.drop(data1.columns[[0]], axis=1, inplace=True)\n",
    "data1.drop(data1.columns[[7]],axis=1,inplace=True)\n",
    "data1=shuffle(data1)\n",
    "c=data1.columns\n",
    "data1[[c[0], c[6]]] = data1[[c[6], c[0]]]\n",
    "size1 = len(data1)\n",
    "train_size1 = (int)(0.8*size1)\n",
    "train_data1 =data1.head(train_size1)\n",
    "test_data1 = data1.tail(size1-train_size1)\n",
    "\n",
    "\n",
    "#ROBOT2\n",
    "data2 = pd.read_csv(\"RobotDataset/Robot2\",sep= ' ', header = None )\n",
    "data2.drop(data2.columns[[0]], axis=1, inplace=True)\n",
    "data2.drop(data2.columns[[7]], axis=1,inplace=True)\n",
    "data2=shuffle(data2)\n",
    "\n",
    "c=data2.columns\n",
    "data2[[c[0], c[6]]] = data2[[c[6], c[0]]]\n",
    "size2 = len(data2)\n",
    "train_size2 = (int)(0.8*size2)\n",
    "train_data2 =data2.head(train_size2)\n",
    "test_data2 = data2.tail(size2-train_size2)\n",
    "\n",
    "#IRIS\n",
    "iris = pd.read_csv(\"Iris/Iris.csv\",delimiter = ',' , header = None )\n",
    "iris=shuffle(iris)\n",
    "size_iris = len(iris)\n",
    "train_size_iris = (int)(0.8*size_iris)\n",
    "train_data_iris =iris.head(train_size_iris)\n",
    "test_data_iris = iris.tail(size_iris-train_size2)\n"
   ]
  },
  {
   "cell_type": "code",
   "execution_count": 9,
   "metadata": {},
   "outputs": [],
   "source": [
    "def euclidian(A,B):\n",
    "    x = [A]\n",
    "    y=[B]\n",
    "    \n",
    "    a=euclidean_distances(x, y)\n",
    "    return a[0][0]\n",
    "   \n",
    "def manhattan(A,B):\n",
    "    a = distance.cityblock(A,B)\n",
    "    return a\n",
    "\n",
    "def cosine(A,B):\n",
    "    a = distance.cosine(A,B)\n",
    "    return a\n",
    "\n",
    "    \n",
    "\n",
    "\n",
    "\n",
    "\n"
   ]
  },
  {
   "cell_type": "code",
   "execution_count": 10,
   "metadata": {},
   "outputs": [],
   "source": [
    "def knn_neighbour(train_data,test_data,k,dist_fun):\n",
    "    train_sz = len(train_data)\n",
    "\n",
    "    test_sz = len(test_data)\n",
    "    columns = len(train_data.values[0])\n",
    "    actual_output=[]\n",
    "    predicted_output=[]\n",
    "    \n",
    "    for i in range(test_sz):\n",
    "        actual_output.append(test_data.values[i][columns-1])\n",
    "    \n",
    "    for i in range(test_sz):\n",
    "        test=[]\n",
    "        distance_values=[]\n",
    "        for j in range(columns-1):\n",
    "            test.append(test_data.values[i][j])\n",
    "            \n",
    "        distance_values=[]   \n",
    "        for j in range(train_sz):\n",
    "            tr = []\n",
    "            \n",
    "            \n",
    "            for m in range(columns-1):\n",
    "                tr.append(train_data.values[j][m])\n",
    "                \n",
    "                \n",
    "            dis=dist_fun(test,tr)\n",
    "            \n",
    "            touple =(dis,j)\n",
    "            distance_values.append(touple)\n",
    "            \n",
    "        distance_values.sort()\n",
    "        k_data =[]\n",
    "        for x in range(k):\n",
    "            k_data.append(train_data.values[distance_values[x][1]][columns-1])\n",
    "            \n",
    "        \n",
    "        out=max(k_data,key=k_data.count)\n",
    "        \n",
    "        predicted_output.append(out)\n",
    "        \n",
    "    return predicted_output,actual_output\n"
   ]
  },
  {
   "cell_type": "markdown",
   "metadata": {},
   "source": [
    "To test with custom input send test data as test_data after deleting the  last column for robot1 and robot2 and move output to the last column\n",
    "For iris just send the test data as test_data_iris in knn_neighbour function"
   ]
  },
  {
   "cell_type": "code",
   "execution_count": 11,
   "metadata": {},
   "outputs": [
    {
     "name": "stdout",
     "output_type": "stream",
     "text": [
      "ROBOT 1\n",
      "Accuracy : 0.84\n",
      "Precision : 1.0\n",
      "F1 Score : 0.8571428571428571\n",
      "Recall : 0.75 \n",
      "\n",
      "ROBOT 2\n",
      "Accuracy : 0.8\n",
      "Precision : 0.8\n",
      "F1 Score : 0.8275862068965517\n",
      "Recall : 0.8571428571428571 \n",
      "\n",
      "IRIS\n",
      "Accuracy : 0.9210526315789473\n",
      "Precision : 0.9185185185185185\n",
      "F1 Score : 0.9128856624319419\n",
      "Recall : 0.9185185185185185 \n",
      "\n"
     ]
    }
   ],
   "source": [
    "predicted_outp,actual_outp = knn_neighbour(train_data1,test_data1,7,manhattan)\n",
    "print('ROBOT 1')\n",
    "print('Accuracy :',accuracy(predicted_outp,actual_outp) )\n",
    "print('Precision :', precision(predicted_outp,actual_outp))\n",
    "print('F1 Score :', f1_score(predicted_outp,actual_outp))\n",
    "print('Recall :', recall(predicted_outp,actual_outp),'\\n')\n",
    "\n",
    "predicted_outp,actual_outp = knn_neighbour(train_data2,test_data2,7,manhattan)\n",
    "print('ROBOT 2')\n",
    "print('Accuracy :', accuracy(predicted_outp,actual_outp))\n",
    "print('Precision :', precision(predicted_outp,actual_outp))\n",
    "print('F1 Score :', f1_score(predicted_outp,actual_outp))\n",
    "print('Recall :', recall(predicted_outp,actual_outp),'\\n')\n",
    "\n",
    "predicted_outp,actual_outp = knn_neighbour(train_data_iris,test_data_iris,7,manhattan)\n",
    "print('IRIS')\n",
    "print('Accuracy :', accuracy(predicted_outp,actual_outp))\n",
    "print('Precision :', precision_score(actual_outp,predicted_outp,average='macro'))\n",
    "print('F1 Score :', f1(predicted_outp,actual_outp,average='macro'))\n",
    "print('Recall :', recall_score(predicted_outp,actual_outp,average='macro'),'\\n')\n",
    "\n",
    "\n"
   ]
  },
  {
   "cell_type": "raw",
   "metadata": {},
   "source": [
    "#BetterApproach\n",
    "\n",
    "Normalising the data in range 0 to 1 or from -1 to 1  will give the better output .Because without normailization data with bigger values always gets advantage over smaller values .After normalization smaller value data will also have significant role in finding the closest neighbour."
   ]
  },
  {
   "cell_type": "markdown",
   "metadata": {},
   "source": [
    "# #ROBOT 1\n"
   ]
  },
  {
   "cell_type": "code",
   "execution_count": 12,
   "metadata": {},
   "outputs": [
    {
     "data": {
      "text/plain": [
       "<matplotlib.legend.Legend at 0x7f565c8caba8>"
      ]
     },
     "execution_count": 12,
     "metadata": {},
     "output_type": "execute_result"
    },
    {
     "data": {
      "image/png": "[encoded data removed]",
      "text/plain": [
       "<Figure size 432x288 with 1 Axes>"
      ]
     },
     "metadata": {},
     "output_type": "display_data"
    }
   ],
   "source": [
    "\n",
    "Accuracy =[]\n",
    "Precision=[]\n",
    "Recall = []\n",
    "F1Score = []\n",
    "K =[]\n",
    "    \n",
    "k=1\n",
    "for i in range(8):\n",
    "    pred=[]\n",
    "    actual=[]\n",
    "    pred,actual=knn_neighbour(train_data1,test_data1,k,euclidian)\n",
    "    Accuracy.append(accuracy(pred,actual))\n",
    "    Precision.append(precision(pred,actual))\n",
    "    Recall.append(recall(pred,actual))\n",
    "    F1Score.append(f1_score(pred,actual))\n",
    "    K.append(k)\n",
    "    k+=2\n",
    "        \n",
    "plt.plot(K, Accuracy, label ='Euclidian')\n",
    "plt.xlabel(\"K = \")\n",
    "plt.ylabel(\"Accuracy\")\n",
    "plt.title(\"Variation of Accuracy w.r.t number of neighbours (K)\")\n",
    "    \n",
    "    \n",
    "Accuracy =[]\n",
    "Precision=[]\n",
    "Recall = []\n",
    "F1Score = []\n",
    "K =[]\n",
    "    \n",
    "k=1\n",
    "for i in range(8):\n",
    "    pred=[]\n",
    "    actual=[]\n",
    "    pred,actual=knn_neighbour(train_data1,test_data1,k,manhattan)\n",
    "    Accuracy.append(accuracy(pred,actual))\n",
    "#     Precision.append(precision(pred,actual))\n",
    "#     Recall.append(recall(pred,actual))\n",
    "#     F1Score.append(f1_score(pred,actual))\n",
    "    K.append(k)\n",
    "    k+=2\n",
    "        \n",
    "plt.plot(K, Accuracy, label ='Manhattan')\n",
    "plt.xlabel(\"K = \")\n",
    "plt.ylabel(\"Accuracy\")\n",
    "plt.title(\"Variation of Accuracy w.r.t number of neighbours (K)\")\n",
    "\n",
    "\n",
    "\n",
    "Accuracy =[]\n",
    "K =[]\n",
    "    \n",
    "k=1\n",
    "for i in range(8):\n",
    "    pred=[]\n",
    "    actual=[]\n",
    "    pred,actual=knn_neighbour(train_data1,test_data1,k,cosine)\n",
    "    Accuracy.append(accuracy(pred,actual))\n",
    "    K.append(k)\n",
    "    k+=2\n",
    "        \n",
    "plt.plot(K, Accuracy, label ='Cosine')\n",
    "plt.xlabel(\"K = \")\n",
    "plt.ylabel(\"Accuracy\")\n",
    "plt.title(\"Variation of Accuracy w.r.t number of neighbours (K)\")\n",
    "\n",
    "\n",
    "plt.legend()\n",
    "    \n",
    "    \n",
    "\n",
    "    \n"
   ]
  },
  {
   "cell_type": "markdown",
   "metadata": {},
   "source": [
    "# ROBOT 2"
   ]
  },
  {
   "cell_type": "code",
   "execution_count": 13,
   "metadata": {},
   "outputs": [
    {
     "data": {
      "text/plain": [
       "<matplotlib.legend.Legend at 0x7f565906ac88>"
      ]
     },
     "execution_count": 13,
     "metadata": {},
     "output_type": "execute_result"
    },
    {
     "data": {
      "image/png": "[encoded data removed]",
      "text/plain": [
       "<Figure size 432x288 with 1 Axes>"
      ]
     },
     "metadata": {},
     "output_type": "display_data"
    }
   ],
   "source": [
    "Accuracy =[]\n",
    "K =[]\n",
    "    \n",
    "k=1\n",
    "for i in range(8):\n",
    "    pred=[]\n",
    "    actual=[]\n",
    "    pred,actual=knn_neighbour(train_data2,test_data2,k,euclidian)\n",
    "    Accuracy.append(accuracy(pred,actual))\n",
    "    K.append(k)\n",
    "    k+=2\n",
    "        \n",
    "plt.plot(K, Accuracy, label ='Euclidian')\n",
    "plt.xlabel(\"K = \")\n",
    "plt.ylabel(\"Accuracy\")\n",
    "plt.title(\"Variation of Accuracy w.r.t number of neighbours (K)\")\n",
    "    \n",
    "    \n",
    "Accuracy =[]\n",
    "\n",
    "K =[]\n",
    "    \n",
    "k=1\n",
    "for i in range(8):\n",
    "    pred=[]\n",
    "    actual=[]\n",
    "    pred,actual=knn_neighbour(train_data2,test_data2,k,manhattan)\n",
    "    Accuracy.append(accuracy(pred,actual))\n",
    "    K.append(k)\n",
    "    k+=2\n",
    "        \n",
    "plt.plot(K, Accuracy, label ='Manhattan')\n",
    "plt.xlabel(\"K = \")\n",
    "plt.ylabel(\"Accuracy\")\n",
    "plt.title(\"Variation of Accuracy w.r.t number of neighbours (K)\")\n",
    "\n",
    "\n",
    "\n",
    "Accuracy =[]\n",
    "K =[]\n",
    "    \n",
    "k=1\n",
    "for i in range(8):\n",
    "    pred=[]\n",
    "    actual=[]\n",
    "    pred,actual=knn_neighbour(train_data2,test_data2,k,cosine)\n",
    "    Accuracy.append(accuracy(pred,actual))\n",
    "    K.append(k)\n",
    "    k+=2\n",
    "        \n",
    "plt.plot(K, Accuracy, label ='Cosine')\n",
    "plt.xlabel(\"K = \")\n",
    "plt.ylabel(\"Accuracy\")\n",
    "plt.title(\"Variation of Accuracy w.r.t number of neighbours (K)\")\n",
    "\n",
    "\n",
    "plt.legend()"
   ]
  },
  {
   "cell_type": "markdown",
   "metadata": {},
   "source": [
    "# IRIS"
   ]
  },
  {
   "cell_type": "code",
   "execution_count": 14,
   "metadata": {},
   "outputs": [
    {
     "data": {
      "text/plain": [
       "<matplotlib.legend.Legend at 0x7f5658ff19b0>"
      ]
     },
     "execution_count": 14,
     "metadata": {},
     "output_type": "execute_result"
    },
    {
     "data": {
      "image/png": "[encoded data removed]",
      "text/plain": [
       "<Figure size 432x288 with 1 Axes>"
      ]
     },
     "metadata": {},
     "output_type": "display_data"
    }
   ],
   "source": [
    "Accuracy =[]\n",
    "K =[]\n",
    "    \n",
    "k=1\n",
    "for i in range(8):\n",
    "    pred=[]\n",
    "    actual=[]\n",
    "    pred,actual=knn_neighbour(train_data_iris,test_data_iris,k,euclidian)\n",
    "    Accuracy.append(accuracy(pred,actual))\n",
    "    K.append(k)\n",
    "    k+=2\n",
    "        \n",
    "plt.plot(K, Accuracy, label ='Euclidian')\n",
    "plt.xlabel(\"K = \")\n",
    "plt.ylabel(\"Accuracy\")\n",
    "plt.title(\"Variation of Accuracy w.r.t number of neighbours (K)\")\n",
    "    \n",
    "    \n",
    "Accuracy =[]\n",
    "\n",
    "K =[]\n",
    "    \n",
    "k=1\n",
    "for i in range(8):\n",
    "    pred=[]\n",
    "    actual=[]\n",
    "    pred,actual=knn_neighbour(train_data_iris,test_data_iris,k,manhattan)\n",
    "    Accuracy.append(accuracy(pred,actual))\n",
    "    K.append(k)\n",
    "    k+=2\n",
    "        \n",
    "plt.plot(K, Accuracy, label ='Manhattan')\n",
    "plt.xlabel(\"K = \")\n",
    "plt.ylabel(\"Accuracy\")\n",
    "plt.title(\"Variation of Accuracy w.r.t number of neighbours (K)\")\n",
    "\n",
    "\n",
    "\n",
    "Accuracy =[]\n",
    "K =[]\n",
    "    \n",
    "k=1\n",
    "for i in range(8):\n",
    "    pred=[]\n",
    "    actual=[]\n",
    "    pred,actual=knn_neighbour(train_data_iris,test_data_iris,k,cosine)\n",
    "    Accuracy.append(accuracy(pred,actual))\n",
    "    K.append(k)\n",
    "    k+=2\n",
    "        \n",
    "plt.plot(K, Accuracy, label ='Cosine')\n",
    "plt.xlabel(\"K = \")\n",
    "plt.ylabel(\"Accuracy\")\n",
    "plt.title(\"Variation of Accuracy w.r.t number of neighbours (K)\")\n",
    "\n",
    "\n",
    "plt.legend()"
   ]
  },
  {
   "cell_type": "markdown",
   "metadata": {},
   "source": [
    "# PART 2"
   ]
  },
  {
   "cell_type": "code",
   "execution_count": 53,
   "metadata": {},
   "outputs": [],
   "source": [
    "\n",
    "loan = pd.read_csv(\"LoanDataset/data.csv\",delimiter = ',' , header = None )\n",
    "loan=loan.drop(loan.index[0])\n",
    "loan_len = len(loan)\n",
    "\n",
    "loan = shuffle(loan)\n",
    "c=loan.columns\n",
    "loan[[c[9], c[13]]] = loan[[c[13], c[9]]]\n",
    "col_size = len(loan.values[0])\n",
    "\n",
    "\n",
    "loan_train_size =  (int)(0.8*loan_len)\n",
    "loan_train = loan.head(loan_train_size)\n",
    "loan_test = loan.tail(loan_len- loan_train_size)\n"
   ]
  },
  {
   "cell_type": "code",
   "execution_count": 54,
   "metadata": {},
   "outputs": [],
   "source": [
    "def gaussian(dataset,col,x):\n",
    "    mean = np.mean(dataset[col])\n",
    "    \n",
    "    standard_dev = statistics.stdev(dataset[col])\n",
    "    \n",
    "    \n",
    "    gauss = (1/(math.sqrt(2*math.pi *standard_dev*standard_dev)))*(math.exp(-((x-mean)**2/(2*standard_dev*standard_dev))))\n",
    "    return gauss\n",
    "    \n",
    "    \n",
    "def categorical_prob(dataset,col,val):\n",
    "    \n",
    "    ct = len(dataset[dataset[col]==val])\n",
    "    \n",
    "    return ct/len(dataset)\n",
    "    "
   ]
  },
  {
   "cell_type": "code",
   "execution_count": 55,
   "metadata": {},
   "outputs": [],
   "source": [
    "def naive_bayes(test_data,train_data):\n",
    "    col_sz = len(train_data.values[0])\n",
    "    train_sz = len(train_data)\n",
    "    test_sz = len(test_data)\n",
    "    is_category = []\n",
    "    \n",
    "    \n",
    "    for i in range(col_sz-1):\n",
    "        uniq=len(set(list(train_data[i])))\n",
    "        if uniq <=4:\n",
    "            is_category.append(1)\n",
    "        else:\n",
    "            is_category.append(0)\n",
    "       \n",
    "    \n",
    "    train1 = train_data[train_data[col_sz-1]!=0.0]\n",
    "    train0 = train_data[train_data[col_sz-1]==0.0]\n",
    "    \n",
    "    predicted_output=[]\n",
    "    actual_output= list(test_data[col_sz-1])\n",
    "    \n",
    "    for i in range(test_sz):\n",
    "        one =1\n",
    "        zero = 1\n",
    "        for j in range(col_sz-1):\n",
    "            if is_category[j] == 1:\n",
    "                one = one*(categorical_prob(train1,j,test_data.values[i][j]))\n",
    "                zero = zero*(categorical_prob(train0,j,test_data.values[i][j]))\n",
    "                \n",
    "            else:\n",
    "                one = one*(gaussian(train1,j,test_data.values[i][j]))\n",
    "                zero = zero*(gaussian(train0,j,test_data.values[i][j]))\n",
    "            \n",
    "        if one > zero:\n",
    "            predicted_output.append(1.0)\n",
    "        else:\n",
    "            predicted_output.append(0.0)\n",
    "            \n",
    "           \n",
    "    return predicted_output,actual_output"
   ]
  },
  {
   "cell_type": "markdown",
   "metadata": {},
   "source": [
    "for testing with other data pass test data as loan_test after swapping output column with last column in naive_bayes function"
   ]
  },
  {
   "cell_type": "code",
   "execution_count": 56,
   "metadata": {},
   "outputs": [
    {
     "name": "stdout",
     "output_type": "stream",
     "text": [
      "Accuracy : 0.8911111111111111\n",
      "Precision : 0.475\n",
      "F1 Score : 0.608\n",
      "Recall : 0.8444444444444444\n"
     ]
    }
   ],
   "source": [
    "predicted_out,actual_out = naive_bayes(loan_test,loan_train)\n",
    "\n",
    "print('Accuracy :', accuracy(predicted_out,actual_out))\n",
    "print('Precision :', precision(predicted_out,actual_out))\n",
    "print('F1 Score :', f1_score(predicted_out,actual_out))\n",
    "print('Recall :', recall(predicted_out,actual_out))\n"
   ]
  },
  {
   "cell_type": "markdown",
   "metadata": {},
   "source": [
    "# PART 3 "
   ]
  },
  {
   "cell_type": "code",
   "execution_count": 58,
   "metadata": {},
   "outputs": [],
   "source": [
    "admission = pd.read_csv(\"AdmissionDataset/data.csv\",delimiter = ',',header=None  )\n",
    "admission=admission.drop(admission.index[0])\n",
    "admission = shuffle(admission)\n",
    "admission_size = len(admission)\n",
    "ad_train_size =(int)(0.8*admission_size)\n",
    "ad_train = admission.head(ad_train_size)\n",
    "ad_test = admission.tail(admission_size - ad_train_size)\n"
   ]
  },
  {
   "cell_type": "code",
   "execution_count": 59,
   "metadata": {},
   "outputs": [],
   "source": [
    "def prediction(theta,row):\n",
    "    output = 0\n",
    "    row_len = len(row)\n",
    "\n",
    "    for i in range(row_len-1):\n",
    "        output+=float(theta[i])*float(row[i])\n",
    "    return output"
   ]
  },
  {
   "cell_type": "code",
   "execution_count": 60,
   "metadata": {
    "scrolled": true
   },
   "outputs": [],
   "source": [
    "\n",
    "\n",
    "def linear_regression(dataset,test):\n",
    "    dataset=dataset.astype('float')\n",
    "    test = test.astype('float')\n",
    "    col_sz = len(dataset.values[0])\n",
    "    Y = list(dataset[col_sz-1])\n",
    "    dataset.drop(dataset.columns[[col_sz-1]],axis = 1,inplace = True)\n",
    "    X = dataset.values\n",
    "    theta = inv(X.transpose().dot(X)).dot(X.transpose()).dot(Y)\n",
    "    \n",
    "    test_len = len(test)\n",
    "    mse=0\n",
    "    mpe=0\n",
    "    mae=0\n",
    "    for i in range(test_len):\n",
    "        o = prediction(theta,test.values[i])\n",
    "        mse = mse + (o-test.values[i][col_sz-1])**2\n",
    "        mpe = mpe + (test.values[i][col_sz-1] - o)/test.values[i][col_sz-1]\n",
    "        mae = mae + abs(o-test.values[i][col_sz-1])\n",
    "    \n",
    "    print('COEFFICIENTS : ', theta)\n",
    "    print('MSE : ',mse/test_len)\n",
    "    print('MPE : ',mpe/test_len)\n",
    "    print('MAE :',mae/test_len)\n",
    "    \n",
    "    return\n",
    "        \n",
    "        \n",
    "    \n",
    "\n",
    "    \n",
    "    \n",
    "    \n",
    "    \n",
    "    \n",
    "    "
   ]
  },
  {
   "cell_type": "code",
   "execution_count": 61,
   "metadata": {},
   "outputs": [
    {
     "name": "stdout",
     "output_type": "stream",
     "text": [
      "COEFFICIENTS :  [ 4.61881512e-05 -3.02616690e-03  4.02919980e-03  1.68345861e-02\n",
      "  8.53095655e-03  2.09676058e-02  1.22187581e-01  5.93102818e-02]\n",
      "MSE :  0.004637103356962524\n",
      "MPE :  -0.0032262939354959948\n",
      "MAE : 0.04965607214645315\n"
     ]
    }
   ],
   "source": [
    "linear_regression(ad_train,ad_test)"
   ]
  },
  {
   "cell_type": "code",
   "execution_count": null,
   "metadata": {},
   "outputs": [],
   "source": []
  }
 ],
 "metadata": {
  "kernelspec": {
   "display_name": "Python 3",
   "language": "python",
   "name": "python3"
  },
  "language_info": {
   "codemirror_mode": {
    "name": "ipython",
    "version": 3
   },
   "file_extension": ".py",
   "mimetype": "text/x-python",
   "name": "python",
   "nbconvert_exporter": "python",
   "pygments_lexer": "ipython3",
   "version": "3.6.7"
  }
 },
 "nbformat": 4,
 "nbformat_minor": 2
}
